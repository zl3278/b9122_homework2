{
 "cells": [
  {
   "cell_type": "markdown",
   "id": "5ea38f8b",
   "metadata": {},
   "source": [
    "## Question 1-1"
   ]
  },
  {
   "cell_type": "code",
   "execution_count": 8,
   "id": "d47b4be0",
   "metadata": {},
   "outputs": [
    {
     "name": "stdout",
     "output_type": "stream",
     "text": [
      "Found URL: https://press.un.org/en/2023/sgsm21980.doc.htm\n",
      "Found URL: https://press.un.org/en/2023/sgsm21978.doc.htm\n",
      "Found URL: https://press.un.org/en/2023/sgsm21947.doc.htm\n",
      "Found URL: https://press.un.org/en/2023/dsgsm1874.doc.htm\n",
      "Found URL: https://press.un.org/en/2023/sgsm21952.doc.htm\n",
      "Found URL: https://press.un.org/en/2023/sgsm21876.doc.htm\n",
      "Found URL: https://press.un.org/en/2023/sgsm21852.doc.htm\n",
      "Found URL: https://press.un.org/en/2023/sgsm21806.doc.htm\n",
      "Found URL: https://press.un.org/en/2023/dsgsm1848.doc.htm\n",
      "Found URL: https://press.un.org/en/2023/sgsm21765.doc.htm\n",
      "List of URLs: ['https://press.un.org/en/2023/sgsm21980.doc.htm', 'https://press.un.org/en/2023/sgsm21978.doc.htm', 'https://press.un.org/en/2023/sgsm21947.doc.htm', 'https://press.un.org/en/2023/dsgsm1874.doc.htm', 'https://press.un.org/en/2023/sgsm21952.doc.htm', 'https://press.un.org/en/2023/sgsm21876.doc.htm', 'https://press.un.org/en/2023/sgsm21852.doc.htm', 'https://press.un.org/en/2023/sgsm21806.doc.htm', 'https://press.un.org/en/2023/dsgsm1848.doc.htm', 'https://press.un.org/en/2023/sgsm21765.doc.htm']\n"
     ]
    }
   ],
   "source": [
    "import requests\n",
    "from bs4 import BeautifulSoup\n",
    "import time\n",
    "\n",
    "def find_press_releases(seed_url, keyword, limit=10):\n",
    "    press_releases = []\n",
    "    to_visit = [seed_url]\n",
    "    visited = set()\n",
    "\n",
    "    while to_visit and len(press_releases) < limit:\n",
    "        url = to_visit.pop(0)\n",
    "        if url in visited:\n",
    "            continue  \n",
    "        visited.add(url)\n",
    "\n",
    "        time.sleep(1)  \n",
    "        response = requests.get(url)\n",
    "        if response.status_code != 200:\n",
    "            continue\n",
    "\n",
    "        soup = BeautifulSoup(response.text, 'html.parser')\n",
    "        press_release_tag = soup.find('a', href='/en/press-release', hreflang='en')\n",
    "        if press_release_tag:\n",
    "            if keyword.lower() in soup.get_text().lower():\n",
    "                press_releases.append(url)\n",
    "                print(f\"Found URL: {url}\")\n",
    "\n",
    "        for link in soup.find_all('a', href=True):\n",
    "            link_url = link.get('href')\n",
    "            if link_url.startswith('/en/'):\n",
    "                absolute_url = 'https://press.un.org' + link_url\n",
    "                if absolute_url not in visited:\n",
    "                    to_visit.append(absolute_url)\n",
    "\n",
    "    return press_releases\n",
    "\n",
    "seed_url = 'https://press.un.org/en'\n",
    "keyword = 'crisis'\n",
    "limit = 10\n",
    "press_releases = find_press_releases(seed_url, keyword, limit)\n",
    "print(\"List of URLs:\", press_releases)\n"
   ]
  },
  {
   "cell_type": "markdown",
   "id": "07b89d8a",
   "metadata": {},
   "source": [
    "## Question 1-2"
   ]
  },
  {
   "cell_type": "code",
   "execution_count": 2,
   "id": "72ac393d",
   "metadata": {
    "scrolled": false
   },
   "outputs": [
    {
     "name": "stdout",
     "output_type": "stream",
     "text": [
      "Found URL: https://www.europarl.europa.eu/news/en/press-room/20230929IPR06132/nagorno-karabakh-meps-demand-review-of-eu-relations-with-azerbaijan\n",
      "Found URL: https://www.europarl.europa.eu/news/en/press-room/20230929IPR06130/parliament-argues-for-a-top-up-to-multi-annual-budget-for-crisis-response\n",
      "Found URL: https://www.europarl.europa.eu/news/en/press-room/20230911IPR04923/reduce-demand-and-protect-people-in-prostitution-say-meps\n",
      "Found URL: https://www.europarl.europa.eu/news/en/press-room/20230911IPR04918/svietlana-tsikhanouskaya-to-meps-support-belarusians-european-aspirations\n",
      "Found URL: https://www.europarl.europa.eu/news/en/press-room/20230911IPR04908/meps-vote-to-strengthen-eu-defence-industry-through-common-procurement\n",
      "Found URL: https://www.europarl.europa.eu/news/en/press-room/20230707IPR02427/covid-19-parliament-adopts-roadmap-to-better-prepare-for-future-health-crises\n",
      "Found URL: https://www.europarl.europa.eu/news/en/press-room/20230707IPR02421/parliament-adopts-new-rules-to-boost-energy-savings\n",
      "Found URL: https://www.europarl.europa.eu/news/en/press-room/20230707IPR02418/semiconductors-meps-adopt-legislation-to-boost-eu-chips-industry\n",
      "Found URL: https://www.europarl.europa.eu/news/en/press-room/20230706IPR02317/ep-today\n",
      "Found URL: https://www.europarl.europa.eu/news/en/press-room/20230706IPR02316/ep-today\n",
      "List of URLs: ['https://www.europarl.europa.eu/news/en/press-room/20230929IPR06132/nagorno-karabakh-meps-demand-review-of-eu-relations-with-azerbaijan', 'https://www.europarl.europa.eu/news/en/press-room/20230707IPR02418/semiconductors-meps-adopt-legislation-to-boost-eu-chips-industry', 'https://www.europarl.europa.eu/news/en/press-room/20230707IPR02427/covid-19-parliament-adopts-roadmap-to-better-prepare-for-future-health-crises', 'https://www.europarl.europa.eu/news/en/press-room/20230706IPR02317/ep-today', 'https://www.europarl.europa.eu/news/en/press-room/20230911IPR04908/meps-vote-to-strengthen-eu-defence-industry-through-common-procurement', 'https://www.europarl.europa.eu/news/en/press-room/20230911IPR04918/svietlana-tsikhanouskaya-to-meps-support-belarusians-european-aspirations', 'https://www.europarl.europa.eu/news/en/press-room/20230929IPR06130/parliament-argues-for-a-top-up-to-multi-annual-budget-for-crisis-response', 'https://www.europarl.europa.eu/news/en/press-room/20230706IPR02316/ep-today', 'https://www.europarl.europa.eu/news/en/press-room/20230911IPR04923/reduce-demand-and-protect-people-in-prostitution-say-meps', 'https://www.europarl.europa.eu/news/en/press-room/20230707IPR02421/parliament-adopts-new-rules-to-boost-energy-savings']\n"
     ]
    }
   ],
   "source": [
    "import requests\n",
    "from bs4 import BeautifulSoup\n",
    "import re\n",
    "import time\n",
    "\n",
    "def find_press_releases(seed_url, keyword, limit=10):\n",
    "    press_releases = set()\n",
    "    crawled_pages = set()\n",
    "    page_number = 0\n",
    "\n",
    "    def get_absolute_url(base_url, link):\n",
    "        if link.startswith('/'):\n",
    "            return 'https://www.europarl.europa.eu' + link\n",
    "        else:\n",
    "            return link\n",
    "\n",
    "    while len(press_releases) < limit:\n",
    "        current_url = f\"{seed_url}/{page_number}\"\n",
    "        if current_url in crawled_pages:\n",
    "            continue\n",
    "        crawled_pages.add(current_url)\n",
    "        page_number += 1\n",
    "\n",
    "        response = requests.get(current_url)\n",
    "        soup = BeautifulSoup(response.text, 'html.parser')\n",
    "\n",
    "        links = soup.select('a[href*=\"press-room\"]')\n",
    "\n",
    "        for link in links:\n",
    "            absolute_url = get_absolute_url(seed_url, link['href'])\n",
    "\n",
    "            if absolute_url in crawled_pages or '/en/' not in absolute_url:\n",
    "                continue\n",
    "\n",
    "            if not re.search(r'/press-room/\\d{8}IPR\\d+', absolute_url):\n",
    "                continue\n",
    "\n",
    "            press_content_response = requests.get(absolute_url)\n",
    "            press_content_soup = BeautifulSoup(press_content_response.text, 'html.parser')\n",
    "\n",
    "            is_plenary_session = press_content_soup.find('span', class_='ep_name', string='Plenary session')\n",
    "            press_content_text = press_content_response.text.lower()\n",
    "            if is_plenary_session and keyword.lower() in press_content_text:\n",
    "                press_releases.add(absolute_url)\n",
    "                print(f\"Found URL: {absolute_url}\")\n",
    "\n",
    "                if len(press_releases) >= limit:\n",
    "                    return list(press_releases)\n",
    "\n",
    "        time.sleep(1)\n",
    "\n",
    "seed_url = 'https://www.europarl.europa.eu/news/en/press-room/page'\n",
    "keyword = 'crisis'\n",
    "limit = 10\n",
    "\n",
    "press_releases = find_press_releases(seed_url, keyword, limit)\n",
    "print(\"List of URLs:\", press_releases)\n"
   ]
  },
  {
   "cell_type": "code",
   "execution_count": null,
   "id": "0c05bf0e",
   "metadata": {},
   "outputs": [],
   "source": []
  }
 ],
 "metadata": {
  "kernelspec": {
   "display_name": "Python 3 (ipykernel)",
   "language": "python",
   "name": "python3"
  },
  "language_info": {
   "codemirror_mode": {
    "name": "ipython",
    "version": 3
   },
   "file_extension": ".py",
   "mimetype": "text/x-python",
   "name": "python",
   "nbconvert_exporter": "python",
   "pygments_lexer": "ipython3",
   "version": "3.11.4"
  }
 },
 "nbformat": 4,
 "nbformat_minor": 5
}
